{
  "nbformat": 4,
  "nbformat_minor": 0,
  "metadata": {
    "colab": {
      "provenance": [],
      "include_colab_link": true
    },
    "kernelspec": {
      "name": "python3",
      "display_name": "Python 3"
    },
    "language_info": {
      "name": "python"
    }
  },
  "cells": [
    {
      "cell_type": "markdown",
      "metadata": {
        "id": "view-in-github",
        "colab_type": "text"
      },
      "source": [
        "<a href=\"https://colab.research.google.com/github/mahesh7878/Ml-lab-/blob/main/ML_Lab1.ipynb\" target=\"_parent\"><img src=\"https://colab.research.google.com/assets/colab-badge.svg\" alt=\"Open In Colab\"/></a>"
      ]
    },
    {
      "cell_type": "markdown",
      "source": [
        "**Find- S Algorithm :**\n",
        "The S algorithm, also known as the Find-S algorithm, is a machine learning algorithm that seeks to find a maximally specific hypothesis based on labeled training data. It starts with the most specific hypothesis and generalizes it by incorporating positive examples. It ignores negative examples during the learning process."
      ],
      "metadata": {
        "id": "hcuBQW0C772n"
      }
    },
    {
      "cell_type": "code",
      "source": [
        "import csv\n",
        "\n",
        "# Attributes used in the dataset (not directly used in the code, just for reference)\n",
        "attributes = [['Sunny', 'Rainy'],\n",
        "              ['Warm', 'Cold'],\n",
        "              ['Normal', 'High'],\n",
        "              ['Strong', 'Weak'],\n",
        "              ['Warm', 'Cool'],\n",
        "              ['Same', 'Change']]\n",
        "\n",
        "num_attributes = len(attributes)\n",
        "\n",
        "# Displaying general and specific hypotheses\n",
        "print(\"\\nThe most general hypothesis: ['?','?','?','?','?','?']\\n\")\n",
        "print(\"\\nThe most specific hypothesis: ['0','0','0','0','0','0']\\n\")"
      ],
      "metadata": {
        "colab": {
          "base_uri": "https://localhost:8080/"
        },
        "id": "LZJ82iNUPWbE",
        "outputId": "edc07079-e812-464e-ba2f-01cfda659179"
      },
      "execution_count": 3,
      "outputs": [
        {
          "output_type": "stream",
          "name": "stdout",
          "text": [
            "\n",
            "The most general hypothesis: ['?','?','?','?','?','?']\n",
            "\n",
            "\n",
            "The most specific hypothesis: ['0','0','0','0','0','0']\n",
            "\n"
          ]
        }
      ]
    },
    {
      "cell_type": "code",
      "source": [
        "import csv\n",
        "\n",
        "data = []\n",
        "\n",
        "# Reading the CSV file\n",
        "print(\"\\nThe Given Training Data Set\\n\")\n",
        "with open('/content/Lab1.csv', 'r') as csvFile:\n",
        "    reader = csv.reader(csvFile)\n",
        "    for row in reader:\n",
        "        data.append(row)\n",
        "        print(row)\n",
        "\n",
        "# If you need to check the content of the data list after reading\n",
        "print(\"\\nData read from CSV:\")\n",
        "for row in data:\n",
        "    print(row)"
      ],
      "metadata": {
        "colab": {
          "base_uri": "https://localhost:8080/",
          "height": 367
        },
        "id": "d0P60QCuPhd1",
        "outputId": "6210a133-b1f4-4a06-c71d-edb925095dd8"
      },
      "execution_count": 12,
      "outputs": [
        {
          "output_type": "stream",
          "name": "stdout",
          "text": [
            "\n",
            "The Given Training Data Set\n",
            "\n"
          ]
        },
        {
          "output_type": "error",
          "ename": "FileNotFoundError",
          "evalue": "[Errno 2] No such file or directory: '/content/Lab1.csv'",
          "traceback": [
            "\u001b[0;31m---------------------------------------------------------------------------\u001b[0m",
            "\u001b[0;31mFileNotFoundError\u001b[0m                         Traceback (most recent call last)",
            "\u001b[0;32m<ipython-input-12-6cbc07446614>\u001b[0m in \u001b[0;36m<cell line: 7>\u001b[0;34m()\u001b[0m\n\u001b[1;32m      5\u001b[0m \u001b[0;31m# Reading the CSV file\u001b[0m\u001b[0;34m\u001b[0m\u001b[0;34m\u001b[0m\u001b[0m\n\u001b[1;32m      6\u001b[0m \u001b[0mprint\u001b[0m\u001b[0;34m(\u001b[0m\u001b[0;34m\"\\nThe Given Training Data Set\\n\"\u001b[0m\u001b[0;34m)\u001b[0m\u001b[0;34m\u001b[0m\u001b[0;34m\u001b[0m\u001b[0m\n\u001b[0;32m----> 7\u001b[0;31m \u001b[0;32mwith\u001b[0m \u001b[0mopen\u001b[0m\u001b[0;34m(\u001b[0m\u001b[0;34m'/content/Lab1.csv'\u001b[0m\u001b[0;34m,\u001b[0m \u001b[0;34m'r'\u001b[0m\u001b[0;34m)\u001b[0m \u001b[0;32mas\u001b[0m \u001b[0mcsvFile\u001b[0m\u001b[0;34m:\u001b[0m\u001b[0;34m\u001b[0m\u001b[0;34m\u001b[0m\u001b[0m\n\u001b[0m\u001b[1;32m      8\u001b[0m     \u001b[0mreader\u001b[0m \u001b[0;34m=\u001b[0m \u001b[0mcsv\u001b[0m\u001b[0;34m.\u001b[0m\u001b[0mreader\u001b[0m\u001b[0;34m(\u001b[0m\u001b[0mcsvFile\u001b[0m\u001b[0;34m)\u001b[0m\u001b[0;34m\u001b[0m\u001b[0;34m\u001b[0m\u001b[0m\n\u001b[1;32m      9\u001b[0m     \u001b[0;32mfor\u001b[0m \u001b[0mrow\u001b[0m \u001b[0;32min\u001b[0m \u001b[0mreader\u001b[0m\u001b[0;34m:\u001b[0m\u001b[0;34m\u001b[0m\u001b[0;34m\u001b[0m\u001b[0m\n",
            "\u001b[0;31mFileNotFoundError\u001b[0m: [Errno 2] No such file or directory: '/content/Lab1.csv'"
          ]
        }
      ]
    },
    {
      "cell_type": "code",
      "source": [
        "# Initial hypothesis (most specific)\n",
        "print(\"\\nThe initial value of hypothesis:\")\n",
        "hypothesis = ['0'] * num_attributes\n",
        "print(hypothesis)"
      ],
      "metadata": {
        "colab": {
          "base_uri": "https://localhost:8080/"
        },
        "id": "EZg3U43YPh_o",
        "outputId": "af7c0201-4224-45df-f177-cf2af2c8dbb2"
      },
      "execution_count": 6,
      "outputs": [
        {
          "output_type": "stream",
          "name": "stdout",
          "text": [
            "\n",
            "The initial value of hypothesis:\n",
            "['0', '0', '0', '0', '0', '0']\n"
          ]
        }
      ]
    },
    {
      "cell_type": "code",
      "source": [
        "# Assuming data is a list of lists, where the last element is the target attribute\n",
        "data = [\n",
        "    # Example data format: [attribute1, attribute2, ..., attributeN, target]\n",
        "    ['Sunny', 'Warm', 'Normal', 'Strong', 'Yes'],\n",
        "    ['Sunny', 'Warm', 'High', 'Strong', 'Yes'],\n",
        "    ['Rainy', 'Cold', 'High', 'Strong', 'No'],\n",
        "    # Add more examples as needed\n",
        "]\n",
        "\n",
        "num_attributes = len(data[0]) - 1  # Exclude the target attribute\n",
        "hypothesis = [None] * num_attributes  # Initialize the hypothesis\n",
        "\n",
        "# Initialize the hypothesis with the first positive example\n",
        "for j in range(num_attributes):\n",
        "    hypothesis[j] = data[0][j]\n",
        "\n",
        "print(\"\\nFind S: Finding a Maximally Specific Hypothesis\\n\")\n",
        "for i in range(len(data)):\n",
        "    if data[i][num_attributes] == 'Yes':  # Only consider positive examples\n",
        "        for j in range(num_attributes):\n",
        "            if data[i][j] != hypothesis[j]:\n",
        "                hypothesis[j] = '?'  # Replace with '?' if there's a mismatch\n",
        "            else:\n",
        "                hypothesis[j] = data[i][j]  # Keep the attribute if it matches\n",
        "    print(f\"For Training Example No {i + 1}, hypothesis: {hypothesis}\")\n",
        "\n",
        "# Final hypothesis\n",
        "print(\"\\nFinal Hypothesis:\", hypothesis)"
      ],
      "metadata": {
        "colab": {
          "base_uri": "https://localhost:8080/"
        },
        "id": "IefsoYSPPk6u",
        "outputId": "24ce8d2c-170e-49e1-c2e2-34a3fbd6e66d"
      },
      "execution_count": 10,
      "outputs": [
        {
          "output_type": "stream",
          "name": "stdout",
          "text": [
            "\n",
            "Find S: Finding a Maximally Specific Hypothesis\n",
            "\n",
            "For Training Example No 1, hypothesis: ['Sunny', 'Warm', 'Normal', 'Strong']\n",
            "For Training Example No 2, hypothesis: ['Sunny', 'Warm', '?', 'Strong']\n",
            "For Training Example No 3, hypothesis: ['Sunny', 'Warm', '?', 'Strong']\n",
            "\n",
            "Final Hypothesis: ['Sunny', 'Warm', '?', 'Strong']\n"
          ]
        }
      ]
    },
    {
      "cell_type": "code",
      "source": [
        "print(\"\\nThe Maximally Specific Hypothesis for a given Training Example:\\n\")\n",
        "print(hypothesis)"
      ],
      "metadata": {
        "colab": {
          "base_uri": "https://localhost:8080/"
        },
        "id": "2bJzK5hsPn3P",
        "outputId": "35c0088a-5e29-4070-8a12-f401b34ea006"
      },
      "execution_count": 8,
      "outputs": [
        {
          "output_type": "stream",
          "name": "stdout",
          "text": [
            "\n",
            "The Maximally Specific Hypothesis for a given Training Example:\n",
            "\n",
            "['0', '0', '0', '0', '0', '0']\n"
          ]
        }
      ]
    },
    {
      "cell_type": "markdown",
      "source": [
        "This code sets up a list of attributes with their possible values for a machine learning task, likely concept learning. It prints out the most general hypothesis (['?', '?', '?', '?', '?', '?']) and the most specific hypothesis (['0', '0', '0', '0', '0', '0']), which are used as starting points for learning from data.\n",
        "\n",
        "After Training Example No. 1:\n",
        "\n",
        "The hypothesis is set to match the first positive example exactly: ['Sunny', 'Warm', '?', 'Strong', 'Warm', 'Same'].\n",
        "\n",
        "After Training Example No. 2:\n",
        "\n",
        "The second example matches the current hypothesis, so the hypothesis remains unchanged: ['Sunny', 'Warm', '?', 'Strong', 'Warm', 'Same'].\n",
        "\n",
        "After Training Example No. 3:\n",
        "\n",
        "The third example causes the hypothesis to be generalized where it differs. Specifically, the values for the fifth and sixth attributes are generalized to ?: ['Sunny', 'Warm', '?', 'Strong', '?', '?'].\n",
        "\n",
        "Final Hypothesis:\n",
        "\n",
        "The most specific hypothesis that fits all the positive examples is ['Sunny', 'Warm', '?', 'Strong', '?', '?'].\n",
        "\n",
        "This final hypothesis covers all positive training examples by being as specific as possible while accommodating variations in the data."
      ],
      "metadata": {
        "id": "-eOk644SPw4h"
      }
    }
  ]
}